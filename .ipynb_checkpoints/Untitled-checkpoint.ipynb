{
 "cells": [
  {
   "cell_type": "code",
   "execution_count": 5,
   "metadata": {},
   "outputs": [
    {
     "ename": "KeyboardInterrupt",
     "evalue": "",
     "output_type": "error",
     "traceback": [
      "\u001b[1;31m---------------------------------------------------------------------------\u001b[0m",
      "\u001b[1;31mKeyboardInterrupt\u001b[0m                         Traceback (most recent call last)",
      "\u001b[1;32m<ipython-input-5-ad6d1fd1216e>\u001b[0m in \u001b[0;36m<module>\u001b[1;34m\u001b[0m\n\u001b[0;32m     23\u001b[0m \u001b[1;33m\u001b[0m\u001b[0m\n\u001b[0;32m     24\u001b[0m \u001b[1;32mwhile\u001b[0m \u001b[1;32mTrue\u001b[0m\u001b[1;33m:\u001b[0m\u001b[1;33m\u001b[0m\u001b[1;33m\u001b[0m\u001b[0m\n\u001b[1;32m---> 25\u001b[1;33m     \u001b[1;32mif\u001b[0m \u001b[0mbuffer1\u001b[0m\u001b[1;33m:\u001b[0m\u001b[1;33m\u001b[0m\u001b[1;33m\u001b[0m\u001b[0m\n\u001b[0m\u001b[0;32m     26\u001b[0m         \u001b[0mnextMsg\u001b[0m \u001b[1;33m=\u001b[0m \u001b[0mbuffer1\u001b[0m\u001b[1;33m.\u001b[0m\u001b[0mpop\u001b[0m\u001b[1;33m(\u001b[0m\u001b[1;33m)\u001b[0m\u001b[1;33m\u001b[0m\u001b[1;33m\u001b[0m\u001b[0m\n\u001b[0;32m     27\u001b[0m         \u001b[1;32mif\u001b[0m \u001b[0mnxtMsg\u001b[0m\u001b[1;33m.\u001b[0m\u001b[0mGS\u001b[0m\u001b[1;33m==\u001b[0m\u001b[1;33m-\u001b[0m\u001b[1;36m2\u001b[0m\u001b[1;33m:\u001b[0m \u001b[1;31m#NACK\u001b[0m\u001b[1;33m\u001b[0m\u001b[1;33m\u001b[0m\u001b[0m\n",
      "\u001b[1;31mKeyboardInterrupt\u001b[0m: "
     ]
    }
   ],
   "source": [
    "import heapq\n",
    "import socket\n",
    "class Message(object):\n",
    "    def __init__(self, GS: int, GSReq: int, mId: int, OP: int, clAddr: str, sendAddr: str):\n",
    "        self.GS = GS\n",
    "        self.GSReq = GSReq\n",
    "        self.mId = mId\n",
    "        self.OP = OP\n",
    "        self.clAddr = clAddr\n",
    "        self.sendAddr = sendAddr\n",
    "\n",
    "    def __repr__(self):\n",
    "        return f'Message- GS:{self.GS}, mId:{self.mId}, OP:{self.OP}, clAddr:{self.clAddr}, sendAddr:{self.sendAddr}'\n",
    "\n",
    "    def __lt__(self, other):\n",
    "        return self.GS < other.GS\n",
    "\n",
    "buffer1 = []\n",
    "buffer2 = []\n",
    "buffer3 = []\n",
    "Addr = \"\"\n",
    "pid = 1\n",
    "GS = 0\n",
    "\n",
    "while True:\n",
    "    if buffer1:\n",
    "        nextMsg = buffer1.pop()\n",
    "        if nxtMsg.GS==-2: #NACK\n",
    "            for msg in buffer2:\n",
    "                if msg.GS==nextMsg.GSReq:\n",
    "                    #send msg to requesting server\n",
    "                    \n",
    "                    print(\"a\")\n",
    "        elif nxtMsg.GS==-1: #Sequencer needs to set GS\n",
    "            if nextMsg.mid%n==pid:\n",
    "                newMsg = Message(GS+1, nextMsg.mId, nextMsg.OP, nextMsg.clAddr, Addr)\n",
    "                buffer2.append(newMsg)\n",
    "                #broadcast newMsg        \n",
    "        else: #normal message\n",
    "            if nextMsg.GS<=GS: #duplicate\n",
    "                continue\n",
    "            elif nextMsg.GS==GS+1: #in-order\n",
    "                result = performOperation(nextMsg)\n",
    "                GS+=1\n",
    "                if nextMsg.mid%n==pid:\n",
    "                    #return result to client\n",
    "                    print(\"b\")\n",
    "                while buffer3 and buffer3[0].GS==GS+1:\n",
    "                    nextMsg = buffer3.heappop()\n",
    "                    performOperation(nextMsg)\n",
    "                    GS+=1\n",
    "            else: #out-of-order\n",
    "                heapq.heappush(buffer3, nxtMsg)\n",
    "                #create NAC and send to seq"
   ]
  },
  {
   "cell_type": "code",
   "execution_count": null,
   "metadata": {},
   "outputs": [],
   "source": []
  }
 ],
 "metadata": {
  "kernelspec": {
   "display_name": "Python 3",
   "language": "python",
   "name": "python3"
  },
  "language_info": {
   "codemirror_mode": {
    "name": "ipython",
    "version": 3
   },
   "file_extension": ".py",
   "mimetype": "text/x-python",
   "name": "python",
   "nbconvert_exporter": "python",
   "pygments_lexer": "ipython3",
   "version": "3.7.3"
  }
 },
 "nbformat": 4,
 "nbformat_minor": 2
}
